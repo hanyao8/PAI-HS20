{
 "cells": [
  {
   "cell_type": "code",
   "execution_count": 5,
   "metadata": {},
   "outputs": [],
   "source": [
    "import numpy as np\n",
    "\n",
    "import pandas as pd \n",
    "import numpy as np\n",
    "import matplotlib.pyplot as plt\n",
    "\n",
    "from matplotlib import cm\n",
    "from mpl_toolkits.mplot3d import Axes3D\n",
    "\n",
    "import kernels"
   ]
  },
  {
   "cell_type": "code",
   "execution_count": 6,
   "metadata": {},
   "outputs": [
    {
     "name": "stdout",
     "output_type": "stream",
     "text": [
      "0.386**2 + 0.165**2 * Matern(length_scale=0.32, nu=1.5) + WhiteKernel(noise_level=0.0026)\n"
     ]
    }
   ],
   "source": [
    "print(kernels.sklearn_best())"
   ]
  },
  {
   "cell_type": "code",
   "execution_count": 7,
   "metadata": {},
   "outputs": [],
   "source": [
    "import solution\n",
    "from solution import Model\n",
    "from solution import cv_eval\n"
   ]
  },
  {
   "cell_type": "code",
   "execution_count": 8,
   "metadata": {},
   "outputs": [],
   "source": [
    "import utils\n",
    "import kernels\n",
    "kernel = kernels.sklearn_best()"
   ]
  },
  {
   "cell_type": "code",
   "execution_count": 9,
   "metadata": {},
   "outputs": [],
   "source": [
    "THRESHOLD = 0.5\n",
    "W1 = 1\n",
    "W2 = 20\n",
    "W3 = 100\n",
    "W4 = 0.01\n",
    "\n",
    "\n",
    "def cost_function(true, predicted):\n",
    "    \"\"\"\n",
    "        true: true values in 1D numpy array\n",
    "        predicted: predicted values in 1D numpy array\n",
    "\n",
    "        return: float\n",
    "    \"\"\"\n",
    "    cost = (true - predicted)**2\n",
    "\n",
    "    # true above threshold (case 1)\n",
    "    mask = true > THRESHOLD\n",
    "    mask_w1 = np.logical_and(predicted>=true,mask)\n",
    "    mask_w2 = np.logical_and(np.logical_and(predicted<true,predicted >=THRESHOLD),mask)\n",
    "    mask_w3 = np.logical_and(predicted<THRESHOLD,mask)\n",
    "\n",
    "    cost[mask_w1] = cost[mask_w1]*W1\n",
    "    cost[mask_w2] = cost[mask_w2]*W2\n",
    "    cost[mask_w3] = cost[mask_w3]*W3\n",
    "\n",
    "    # true value below threshold (case 2)\n",
    "    mask = true <= THRESHOLD\n",
    "    mask_w1 = np.logical_and(predicted>true,mask)\n",
    "    mask_w2 = np.logical_and(predicted<=true,mask)\n",
    "\n",
    "    cost[mask_w1] = cost[mask_w1]*W1\n",
    "    cost[mask_w2] = cost[mask_w2]*W2\n",
    "\n",
    "    reward = W4*np.logical_and(predicted < THRESHOLD,true<THRESHOLD)\n",
    "    if reward is None:\n",
    "        reward = 0\n",
    "    return np.mean(cost) - np.mean(reward)\n"
   ]
  },
  {
   "cell_type": "code",
   "execution_count": 10,
   "metadata": {},
   "outputs": [],
   "source": [
    "train_x_name = \"train_x.csv\"\n",
    "train_y_name = \"train_y.csv\"\n",
    "\n",
    "train_x = np.loadtxt(train_x_name, delimiter=',')\n",
    "train_y = np.loadtxt(train_y_name, delimiter=',')\n",
    "\n",
    "# load the test dateset\n",
    "test_x_name = \"test_x.csv\"\n",
    "test_x = np.loadtxt(test_x_name, delimiter=',')"
   ]
  },
  {
   "cell_type": "code",
   "execution_count": 11,
   "metadata": {},
   "outputs": [],
   "source": [
    "df_vals = np.stack([train_x[:,0],train_x[:,1],train_y],axis=1)\n",
    "df = pd.DataFrame(data = df_vals,columns = ['x0','x1','y'])\n",
    "\n",
    "df_left = df[df['x0']<-0.5]\n",
    "df_left = df_left.sample(frac=0.01,random_state=42)\n",
    "df_right = df[df['x0']>-0.5]\n",
    "\n",
    "\n"
   ]
  },
  {
   "cell_type": "code",
   "execution_count": 12,
   "metadata": {},
   "outputs": [],
   "source": [
    "i=0\n",
    "K_cv=10\n",
    "df_train_list = [df_left]\n",
    "df_right_shuffle = df_right.sample(frac=1,random_state=42)\n",
    "df_right_splits = np.array_split(df_right_shuffle,K_cv)\n",
    "for j in range(0,K_cv):\n",
    "    if j!=i:\n",
    "        df_train_list.append(df_right_splits[j])\n",
    "\n",
    "df_train = pd.concat(df_train_list)\n",
    "df_val = df_right_splits[i]\n",
    "\n",
    "train_x = df_train[['x0','x1']].values\n",
    "train_y = df_train['y'].values\n",
    "val_x = df_val[['x0','x1']].values\n",
    "val_y = df_val['y'].values"
   ]
  },
  {
   "cell_type": "code",
   "execution_count": 24,
   "metadata": {},
   "outputs": [],
   "source": [
    "\n",
    "    # nystroem fit\n",
    "    variance=1e-3\n",
    "    n=np.shape(train_x)[0]\n",
    "    q=1000\n",
    "\n",
    "    K_nq = kernel(train_x,train_x[:q])\n",
    "    K_qq = kernel(train_x[:q],train_x[:q])\n",
    "    K_qq_eigendec = np.linalg.eig(K_qq)\n",
    "    Lambda_qq = np.diag(K_qq_eigendec[0])\n",
    "    U_qq = K_qq_eigendec[1]\n",
    "\n",
    "    #For the minor components- U_qq contains some complex columns\n",
    "    #if we don't do PCA\n",
    "    p = utils.pca_find_p(K_qq_eigendec[0],pca_thresh=(1-1e-3))\n",
    "    Lambda_pp = np.diag(K_qq_eigendec[0][:p+1])\n",
    "    U_qp = U_qq[:,:p+1]\n",
    "\n",
    "    Q = K_nq.dot(U_qp).dot(np.sqrt(np.linalg.inv(Lambda_pp)))\n",
    "\n",
    "    #reduced_inv = np.linalg.inv( self.variance*np.eye(self.q)+(Q.transpose()).dot(Q) )\n",
    "    reduced_inv = np.linalg.inv( variance*np.eye(Q.shape[1])+(Q.transpose()).dot(Q) )\n",
    "    K_x_x_inv = (1/variance)*np.eye(n) - \\\n",
    "            (1/variance)*Q.dot(reduced_inv).dot(Q.transpose()).real\n",
    "    K_x_x_inv_nys = K_x_x_inv\n",
    "    \n",
    "    K_x_x_inv = (K_x_x_inv+K_x_x_inv.transpose())/2\n",
    "    \n",
    "    # nystroem predict\n",
    "    K_Q_x = kernel(val_x, train_x)\n",
    "    K_x_Q = kernel(train_x, val_x)\n",
    "    K_Q_Q = kernel(val_x, val_x)\n",
    "    means = K_Q_x.dot(K_x_x_inv).dot(train_y)\n",
    "    cov = K_Q_Q - K_Q_x.dot(K_x_x_inv).dot(K_x_Q)\n",
    "    cov = (cov+cov.transpose())/2\n",
    "    vars_val = np.diag(cov)\n",
    "    y_pred = (np.random.multivariate_normal(means.ravel(), cov, 1)).flatten() #sample from the multivar normal\n"
   ]
  },
  {
   "cell_type": "code",
   "execution_count": null,
   "metadata": {},
   "outputs": [],
   "source": []
  },
  {
   "cell_type": "code",
   "execution_count": null,
   "metadata": {},
   "outputs": [],
   "source": []
  },
  {
   "cell_type": "code",
   "execution_count": null,
   "metadata": {},
   "outputs": [],
   "source": []
  },
  {
   "cell_type": "code",
   "execution_count": 25,
   "metadata": {},
   "outputs": [],
   "source": [
    "# normal fit\n",
    "K_x_x = kernel(train_x,train_x)\n",
    "K_x_x_inv = np.linalg.inv(K_x_x +\n",
    "                                   (variance * np.eye(*K_x_x.shape)))"
   ]
  },
  {
   "cell_type": "code",
   "execution_count": 26,
   "metadata": {},
   "outputs": [],
   "source": [
    "# normal predict\n",
    "K_Q_x = kernel(val_x, train_x)\n",
    "K_x_Q = kernel(train_x, val_x)\n",
    "K_Q_Q = kernel(val_x, val_x)\n",
    "means = K_Q_x.dot(K_x_x_inv).dot(train_y)\n",
    "cov = K_Q_Q - K_Q_x.dot(K_x_x_inv).dot(K_x_Q)\n",
    "vars_val = np.diag(cov)\n",
    "y_pred = (np.random.multivariate_normal(means.ravel(), cov, 1)).flatten() #sample from the multivar normal"
   ]
  },
  {
   "cell_type": "code",
   "execution_count": null,
   "metadata": {},
   "outputs": [],
   "source": []
  },
  {
   "cell_type": "code",
   "execution_count": 27,
   "metadata": {},
   "outputs": [],
   "source": [
    "# scikit learn\n",
    "from sklearn.gaussian_process import GaussianProcessRegressor\n",
    "\n",
    "gpr = GaussianProcessRegressor(kernel=kernel,copy_X_train=False,random_state=42)\n",
    "gpr.fit(train_x, train_y)\n",
    "y_pred = gpr.predict(val_x)\n",
    "\n"
   ]
  },
  {
   "cell_type": "code",
   "execution_count": 28,
   "metadata": {},
   "outputs": [
    {
     "name": "stdout",
     "output_type": "stream",
     "text": [
      "0.392**2 + 0.167**2 * Matern(length_scale=0.33, nu=1.5) + WhiteKernel(noise_level=0.00269)\n"
     ]
    }
   ],
   "source": [
    "print(gpr.kernel_)"
   ]
  },
  {
   "cell_type": "code",
   "execution_count": 29,
   "metadata": {},
   "outputs": [
    {
     "name": "stdout",
     "output_type": "stream",
     "text": [
      "0.030773181591721398\n"
     ]
    }
   ],
   "source": [
    "print(cost_function(val_y,y_pred))"
   ]
  },
  {
   "cell_type": "code",
   "execution_count": 30,
   "metadata": {},
   "outputs": [],
   "source": [
    "check1 = np.abs(K_x_x_inv_nys-K_x_x_inv)\n",
    "check2 = np.abs(K_x_x_inv)\n",
    "check3 =check1 / check2\n",
    "check4 = np.abs(K_x_x_inv_nys)"
   ]
  },
  {
   "cell_type": "code",
   "execution_count": 31,
   "metadata": {},
   "outputs": [
    {
     "name": "stdout",
     "output_type": "stream",
     "text": [
      "22802576.36884447\n"
     ]
    }
   ],
   "source": [
    "print(np.max(check3))"
   ]
  },
  {
   "cell_type": "code",
   "execution_count": 32,
   "metadata": {},
   "outputs": [
    {
     "data": {
      "text/plain": [
       "(array([3.000e+00, 0.000e+00, 6.000e+00, 3.000e+00, 0.000e+00, 0.000e+00,\n",
       "        9.000e+00, 3.000e+00, 3.000e+00, 2.800e+01, 2.700e+01, 1.100e+01,\n",
       "        2.000e+00, 1.300e+01, 2.300e+01, 2.100e+01, 2.700e+01, 1.800e+01,\n",
       "        5.700e+01, 5.600e+01, 7.000e+01, 8.200e+01, 7.200e+01, 5.900e+01,\n",
       "        9.400e+01, 1.030e+02, 1.920e+02, 1.710e+02, 1.840e+02, 2.520e+02,\n",
       "        2.950e+02, 4.070e+02, 2.810e+02, 6.000e+02, 6.230e+02, 8.330e+02,\n",
       "        8.430e+02, 1.145e+03, 1.388e+03, 1.693e+03, 1.830e+03, 1.929e+03,\n",
       "        2.429e+03, 3.041e+03, 3.316e+03, 3.616e+03, 3.752e+03, 3.960e+03,\n",
       "        4.044e+03, 4.006e+03, 3.872e+03, 3.870e+03, 3.946e+03, 3.904e+03,\n",
       "        3.504e+03, 3.204e+03, 3.368e+03, 2.990e+03, 2.928e+03, 2.638e+03,\n",
       "        2.162e+03, 2.164e+03, 1.984e+03, 1.794e+03, 1.664e+03, 1.264e+03,\n",
       "        1.184e+03, 1.026e+03, 9.340e+02, 6.840e+02, 6.080e+02, 5.120e+02,\n",
       "        4.020e+02, 3.360e+02, 2.000e+02, 2.140e+02, 1.400e+02, 1.220e+02,\n",
       "        9.400e+01, 6.600e+01, 3.400e+01, 5.200e+01, 3.800e+01, 2.800e+01,\n",
       "        2.200e+01, 2.000e+01, 6.000e+00, 1.000e+01, 6.000e+00, 6.000e+00,\n",
       "        8.000e+00, 2.000e+00, 2.000e+00, 0.000e+00, 0.000e+00, 2.000e+00,\n",
       "        0.000e+00, 0.000e+00, 0.000e+00, 2.000e+00]),\n",
       " array([-5.77817625e+00, -5.64681464e+00, -5.51545304e+00, -5.38409144e+00,\n",
       "        -5.25272984e+00, -5.12136824e+00, -4.99000664e+00, -4.85864503e+00,\n",
       "        -4.72728343e+00, -4.59592183e+00, -4.46456023e+00, -4.33319863e+00,\n",
       "        -4.20183703e+00, -4.07047542e+00, -3.93911382e+00, -3.80775222e+00,\n",
       "        -3.67639062e+00, -3.54502902e+00, -3.41366742e+00, -3.28230581e+00,\n",
       "        -3.15094421e+00, -3.01958261e+00, -2.88822101e+00, -2.75685941e+00,\n",
       "        -2.62549781e+00, -2.49413621e+00, -2.36277460e+00, -2.23141300e+00,\n",
       "        -2.10005140e+00, -1.96868980e+00, -1.83732820e+00, -1.70596660e+00,\n",
       "        -1.57460499e+00, -1.44324339e+00, -1.31188179e+00, -1.18052019e+00,\n",
       "        -1.04915859e+00, -9.17796985e-01, -7.86435384e-01, -6.55073782e-01,\n",
       "        -5.23712180e-01, -3.92350579e-01, -2.60988977e-01, -1.29627375e-01,\n",
       "         1.73422637e-03,  1.33095828e-01,  2.64457430e-01,  3.95819031e-01,\n",
       "         5.27180633e-01,  6.58542235e-01,  7.89903836e-01,  9.21265438e-01,\n",
       "         1.05262704e+00,  1.18398864e+00,  1.31535024e+00,  1.44671184e+00,\n",
       "         1.57807345e+00,  1.70943505e+00,  1.84079665e+00,  1.97215825e+00,\n",
       "         2.10351985e+00,  2.23488145e+00,  2.36624306e+00,  2.49760466e+00,\n",
       "         2.62896626e+00,  2.76032786e+00,  2.89168946e+00,  3.02305106e+00,\n",
       "         3.15441267e+00,  3.28577427e+00,  3.41713587e+00,  3.54849747e+00,\n",
       "         3.67985907e+00,  3.81122067e+00,  3.94258228e+00,  4.07394388e+00,\n",
       "         4.20530548e+00,  4.33666708e+00,  4.46802868e+00,  4.59939028e+00,\n",
       "         4.73075189e+00,  4.86211349e+00,  4.99347509e+00,  5.12483669e+00,\n",
       "         5.25619829e+00,  5.38755989e+00,  5.51892150e+00,  5.65028310e+00,\n",
       "         5.78164470e+00,  5.91300630e+00,  6.04436790e+00,  6.17572950e+00,\n",
       "         6.30709111e+00,  6.43845271e+00,  6.56981431e+00,  6.70117591e+00,\n",
       "         6.83253751e+00,  6.96389911e+00,  7.09526072e+00,  7.22662232e+00,\n",
       "         7.35798392e+00]),\n",
       " <BarContainer object of 100 artists>)"
      ]
     },
     "execution_count": 32,
     "metadata": {},
     "output_type": "execute_result"
    },
    {
     "data": {
      "image/png": "[encoded data removed]",
      "text/plain": [
       "<Figure size 432x288 with 1 Axes>"
      ]
     },
     "metadata": {
      "needs_background": "light"
     },
     "output_type": "display_data"
    }
   ],
   "source": [
    "import matplotlib.pyplot as plt\n",
    "\n",
    "\n",
    "#plt.hist(np.log10(check1.flatten()),bins=100,alpha=0.25)\n",
    "plt.hist(np.log10(check2.flatten()),bins=100,alpha=0.25)\n",
    "plt.hist(np.log10(check3.flatten()),bins=100,alpha=0.25)\n",
    "#plt.hist(np.random.choice(check2.flatten(),1000))"
   ]
  },
  {
   "cell_type": "code",
   "execution_count": null,
   "metadata": {},
   "outputs": [],
   "source": []
  },
  {
   "cell_type": "code",
   "execution_count": null,
   "metadata": {},
   "outputs": [],
   "source": []
  },
  {
   "cell_type": "code",
   "execution_count": null,
   "metadata": {},
   "outputs": [],
   "source": []
  },
  {
   "cell_type": "code",
   "execution_count": null,
   "metadata": {},
   "outputs": [],
   "source": []
  }
 ],
 "metadata": {
  "kernelspec": {
   "display_name": "Python 3",
   "language": "python",
   "name": "python3"
  }
 },
 "nbformat": 4,
 "nbformat_minor": 2
}
