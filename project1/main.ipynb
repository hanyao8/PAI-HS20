{
 "cells": [
  {
   "cell_type": "code",
   "execution_count": 1,
   "metadata": {},
   "outputs": [],
   "source": [
    "import numpy as np\n",
    "\n",
    "import pandas as pd \n",
    "import numpy as np\n",
    "import matplotlib.pyplot as plt\n",
    "\n",
    "from matplotlib import cm\n",
    "from mpl_toolkits.mplot3d import Axes3D\n",
    "\n",
    "import kernels"
   ]
  },
  {
   "cell_type": "code",
   "execution_count": 2,
   "metadata": {},
   "outputs": [],
   "source": [
    "import solution\n",
    "from solution import Model\n",
    "from solution import cv_eval\n"
   ]
  },
  {
   "cell_type": "code",
   "execution_count": 3,
   "metadata": {},
   "outputs": [],
   "source": [
    "#copy code to override default classes"
   ]
  },
  {
   "cell_type": "code",
   "execution_count": 4,
   "metadata": {},
   "outputs": [],
   "source": [
    "#def main():\n",
    "train_x_name = \"train_x.csv\"\n",
    "train_y_name = \"train_y.csv\"\n",
    "\n",
    "train_x = np.loadtxt(train_x_name, delimiter=',')\n",
    "train_y = np.loadtxt(train_y_name, delimiter=',')\n",
    "\n",
    "# load the test dateset\n",
    "test_x_name = \"test_x.csv\"\n",
    "test_x = np.loadtxt(test_x_name, delimiter=',')"
   ]
  },
  {
   "cell_type": "code",
   "execution_count": null,
   "metadata": {},
   "outputs": [],
   "source": [
    "### TODO add a simple outer train, test split to select the hyperparameters (kernel type etc) in the inner CV loop \n",
    "kernel = kernels.sklearn_best()\n",
    "K_cv = 10\n",
    "cv_m = cv_eval(cv_splits = K_cv, kernel = kernel, use_skit_learn = True) # Choose whether to use custom model or scikit learn\n",
    "val_cost_array = cv_m.run_cross_validation(train_x, train_y)\n",
    "\n",
    "print(np.mean(val_cost_array))\n",
    "print(np.std(val_cost_array))"
   ]
  },
  {
   "cell_type": "code",
   "execution_count": null,
   "metadata": {},
   "outputs": [],
   "source": []
  }
 ],
 "metadata": {
  "kernelspec": {
   "display_name": "Python 3",
   "language": "python",
   "name": "python3"
  },
  "language_info": {
   "codemirror_mode": {
    "name": "ipython",
    "version": 3
   },
   "file_extension": ".py",
   "mimetype": "text/x-python",
   "name": "python",
   "nbconvert_exporter": "python",
   "pygments_lexer": "ipython3",
   "version": "3.6.7"
  }
 },
 "nbformat": 4,
 "nbformat_minor": 2
}
