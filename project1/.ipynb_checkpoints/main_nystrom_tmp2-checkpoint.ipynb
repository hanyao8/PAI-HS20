{
 "cells": [
  {
   "cell_type": "code",
   "execution_count": 1,
   "metadata": {},
   "outputs": [],
   "source": [
    "import numpy as np\n",
    "\n",
    "import pandas as pd \n",
    "import numpy as np\n",
    "import matplotlib.pyplot as plt\n",
    "\n",
    "from matplotlib import cm\n",
    "from mpl_toolkits.mplot3d import Axes3D\n",
    "\n",
    "import kernels"
   ]
  },
  {
   "cell_type": "code",
   "execution_count": 2,
   "metadata": {},
   "outputs": [
    {
     "name": "stdout",
     "output_type": "stream",
     "text": [
      "0.386**2 + 0.165**2 * Matern(length_scale=0.32, nu=1.5) + WhiteKernel(noise_level=0.0026)\n"
     ]
    }
   ],
   "source": [
    "print(kernels.sklearn_best())"
   ]
  },
  {
   "cell_type": "code",
   "execution_count": 3,
   "metadata": {},
   "outputs": [],
   "source": [
    "import solution\n",
    "from solution import Model\n",
    "from solution import cv_eval\n"
   ]
  },
  {
   "cell_type": "code",
   "execution_count": null,
   "metadata": {},
   "outputs": [],
   "source": [
    "#copy code to override default classes"
   ]
  },
  {
   "cell_type": "code",
   "execution_count": 4,
   "metadata": {},
   "outputs": [],
   "source": [
    "#def main():\n",
    "train_x_name = \"train_x.csv\"\n",
    "train_y_name = \"train_y.csv\"\n",
    "\n",
    "train_x = np.loadtxt(train_x_name, delimiter=',')\n",
    "train_y = np.loadtxt(train_y_name, delimiter=',')\n",
    "\n",
    "# load the test dateset\n",
    "test_x_name = \"test_x.csv\"\n",
    "test_x = np.loadtxt(test_x_name, delimiter=',')"
   ]
  },
  {
   "cell_type": "code",
   "execution_count": null,
   "metadata": {},
   "outputs": [],
   "source": [
    "\n",
    "np.shape(train_x)\n"
   ]
  },
  {
   "cell_type": "code",
   "execution_count": null,
   "metadata": {},
   "outputs": [],
   "source": [
    "### TODO add a simple outer train, test split to select the hyperparameters (kernel type etc) in the inner CV loop \n",
    "kernel = kernels.sklearn_best()\n",
    "K_cv = 10\n",
    "model_config = {\n",
    "    \"kernel\":kernel,\n",
    "    \"use_skit_learn\":True,\n",
    "    \"model_preprocess_left_frac\":1.0\n",
    "}\n",
    "cv_m = cv_eval(cv_splits = K_cv,\n",
    "               cv_preprocess_left_frac = 0.01,\n",
    "               model_config=model_config) # Choose whether to use custom model or scikit learn\n",
    "val_cost_array = cv_m.run_cross_validation(train_x, train_y)\n",
    "\n",
    "print(np.mean(val_cost_array))\n",
    "print(np.std(val_cost_array))"
   ]
  },
  {
   "cell_type": "code",
   "execution_count": null,
   "metadata": {},
   "outputs": [],
   "source": [
    "for i in range(10):\n",
    "    print(np.exp(cv_m.models[i].kernel_.theta))"
   ]
  },
  {
   "cell_type": "code",
   "execution_count": null,
   "metadata": {},
   "outputs": [],
   "source": []
  },
  {
   "cell_type": "code",
   "execution_count": null,
   "metadata": {},
   "outputs": [],
   "source": []
  },
  {
   "cell_type": "code",
   "execution_count": null,
   "metadata": {},
   "outputs": [],
   "source": []
  },
  {
   "cell_type": "code",
   "execution_count": null,
   "metadata": {},
   "outputs": [],
   "source": [
    "#check nystrom"
   ]
  },
  {
   "cell_type": "code",
   "execution_count": null,
   "metadata": {},
   "outputs": [],
   "source": [
    "train_x_trunc = train_x[:100]\n",
    "train_x_full = train_x[:10000]\n"
   ]
  },
  {
   "cell_type": "code",
   "execution_count": null,
   "metadata": {},
   "outputs": [],
   "source": [
    "kernel = kernels.sklearn_best()\n",
    "print(kernel(train_x_trunc,train_x_trunc))\n",
    "print(kernel(train_x_trunc,train_x_trunc).shape)\n"
   ]
  },
  {
   "cell_type": "code",
   "execution_count": null,
   "metadata": {},
   "outputs": [],
   "source": [
    "model_config = {\"use_skit_learn\":False,\n",
    "                \"use_nystrom\":True,\n",
    "                \"nystrom_q\":100,\n",
    "                \"kernel\":kernel,\n",
    "                \"variance\":0.01,\n",
    "                \"correct_y_pred\":False,\n",
    "                \"preprocess_frac\":1.0}\n",
    "#model = Model(model_config)"
   ]
  },
  {
   "cell_type": "code",
   "execution_count": null,
   "metadata": {},
   "outputs": [],
   "source": []
  },
  {
   "cell_type": "code",
   "execution_count": 13,
   "metadata": {},
   "outputs": [
    {
     "name": "stdout",
     "output_type": "stream",
     "text": [
      "[[-1.         -1.          0.75400097]\n",
      " [-1.         -0.98657718  0.83958557]\n",
      " [-1.         -0.97315436  0.81706415]\n",
      " ...\n",
      " [-0.47651007 -0.73154362  0.22523587]\n",
      " [ 0.5033557   0.53020134  0.49737222]\n",
      " [ 0.00671141  0.5033557   0.29129925]]\n",
      "(17250, 3)\n",
      "(17250, 3)\n",
      "i=0\n",
      "training cost fn   44.829042\n",
      "val cost fn        562.130605\n",
      "\n",
      "\n",
      "i=1\n",
      "training cost fn   47.075014\n",
      "val cost fn        358.692361\n",
      "\n",
      "\n",
      "i=2\n",
      "training cost fn   34.243287\n",
      "val cost fn        674.471512\n",
      "\n",
      "\n",
      "i=3\n",
      "training cost fn   34.779395\n",
      "val cost fn        738.252192\n",
      "\n",
      "\n",
      "i=4\n",
      "training cost fn   32.277287\n",
      "val cost fn        370.235802\n",
      "\n",
      "\n",
      "i=5\n",
      "training cost fn   52.151772\n",
      "val cost fn        438.211420\n",
      "\n",
      "\n",
      "i=6\n",
      "training cost fn   23.539532\n",
      "val cost fn        459.759804\n",
      "\n",
      "\n",
      "i=7\n",
      "training cost fn   43.622620\n",
      "val cost fn        439.501553\n",
      "\n",
      "\n",
      "i=8\n",
      "training cost fn   23.457860\n",
      "val cost fn        476.969100\n",
      "\n",
      "\n",
      "i=9\n",
      "training cost fn   48.176475\n",
      "val cost fn        162.285580\n",
      "\n",
      "\n",
      "468.05099306244074\n",
      "155.35200327295533\n"
     ]
    }
   ],
   "source": [
    "kernel = kernels.sklearn_best()\n",
    "K_cv = 10\n",
    "model_config = {\"use_skit_learn\":False,\n",
    "                \"use_nystrom\":True,\n",
    "                \"nystrom_q\":100,\n",
    "                \"kernel\":kernel,\n",
    "                \"variance\":0.01,\n",
    "                \"correct_y_pred\":False,\n",
    "                \"model_preprocess_left_frac\":1.0}\n",
    "cv_m = cv_eval(cv_splits = K_cv,\n",
    "               cv_preprocess_left_frac = 0.1,\n",
    "               model_config=model_config) # Choose whether to use custom model or scikit learn\n",
    "val_cost_array = cv_m.run_cross_validation(train_x, train_y)\n",
    "\n",
    "print(np.mean(val_cost_array))\n",
    "print(np.std(val_cost_array))"
   ]
  },
  {
   "cell_type": "code",
   "execution_count": 20,
   "metadata": {},
   "outputs": [
    {
     "data": {
      "text/plain": [
       "0.0"
      ]
     },
     "execution_count": 20,
     "metadata": {},
     "output_type": "execute_result"
    }
   ],
   "source": [
    "np.max(cv_m.model.K_x_x_inv.imag)"
   ]
  },
  {
   "cell_type": "code",
   "execution_count": 23,
   "metadata": {},
   "outputs": [
    {
     "data": {
      "text/plain": [
       "(49, 49)"
      ]
     },
     "execution_count": 23,
     "metadata": {},
     "output_type": "execute_result"
    }
   ],
   "source": [
    "cv_m.model.Lambda_pp.shape"
   ]
  },
  {
   "cell_type": "code",
   "execution_count": 15,
   "metadata": {},
   "outputs": [
    {
     "data": {
      "text/plain": [
       "(100,)"
      ]
     },
     "execution_count": 15,
     "metadata": {},
     "output_type": "execute_result"
    }
   ],
   "source": [
    "cv_m.model.K_qq_eigendec[0].shape"
   ]
  },
  {
   "cell_type": "code",
   "execution_count": 17,
   "metadata": {},
   "outputs": [
    {
     "data": {
      "text/plain": [
       "(1845, 2)"
      ]
     },
     "execution_count": 17,
     "metadata": {},
     "output_type": "execute_result"
    }
   ],
   "source": [
    "cv_m.X_train.shape"
   ]
  },
  {
   "cell_type": "code",
   "execution_count": 18,
   "metadata": {},
   "outputs": [
    {
     "data": {
      "text/plain": [
       "1.0"
      ]
     },
     "execution_count": 18,
     "metadata": {},
     "output_type": "execute_result"
    }
   ],
   "source": [
    "cv_m.model.model_preprocess_left_frac"
   ]
  },
  {
   "cell_type": "code",
   "execution_count": null,
   "metadata": {},
   "outputs": [],
   "source": []
  },
  {
   "cell_type": "code",
   "execution_count": 39,
   "metadata": {},
   "outputs": [],
   "source": [
    "import utils\n",
    "import kernels\n",
    "kernel = kernels.sklearn_best()"
   ]
  },
  {
   "cell_type": "code",
   "execution_count": 40,
   "metadata": {},
   "outputs": [],
   "source": [
    "THRESHOLD = 0.5\n",
    "W1 = 1\n",
    "W2 = 20\n",
    "W3 = 100\n",
    "W4 = 0.01\n",
    "\n",
    "\n",
    "def cost_function(true, predicted):\n",
    "    \"\"\"\n",
    "        true: true values in 1D numpy array\n",
    "        predicted: predicted values in 1D numpy array\n",
    "\n",
    "        return: float\n",
    "    \"\"\"\n",
    "    cost = (true - predicted)**2\n",
    "\n",
    "    # true above threshold (case 1)\n",
    "    mask = true > THRESHOLD\n",
    "    mask_w1 = np.logical_and(predicted>=true,mask)\n",
    "    mask_w2 = np.logical_and(np.logical_and(predicted<true,predicted >=THRESHOLD),mask)\n",
    "    mask_w3 = np.logical_and(predicted<THRESHOLD,mask)\n",
    "\n",
    "    cost[mask_w1] = cost[mask_w1]*W1\n",
    "    cost[mask_w2] = cost[mask_w2]*W2\n",
    "    cost[mask_w3] = cost[mask_w3]*W3\n",
    "\n",
    "    # true value below threshold (case 2)\n",
    "    mask = true <= THRESHOLD\n",
    "    mask_w1 = np.logical_and(predicted>true,mask)\n",
    "    mask_w2 = np.logical_and(predicted<=true,mask)\n",
    "\n",
    "    cost[mask_w1] = cost[mask_w1]*W1\n",
    "    cost[mask_w2] = cost[mask_w2]*W2\n",
    "\n",
    "    reward = W4*np.logical_and(predicted < THRESHOLD,true<THRESHOLD)\n",
    "    if reward is None:\n",
    "        reward = 0\n",
    "    return np.mean(cost) - np.mean(reward)\n"
   ]
  },
  {
   "cell_type": "code",
   "execution_count": 41,
   "metadata": {},
   "outputs": [],
   "source": [
    "train_x_name = \"train_x.csv\"\n",
    "train_y_name = \"train_y.csv\"\n",
    "\n",
    "train_x = np.loadtxt(train_x_name, delimiter=',')\n",
    "train_y = np.loadtxt(train_y_name, delimiter=',')\n",
    "\n",
    "# load the test dateset\n",
    "test_x_name = \"test_x.csv\"\n",
    "test_x = np.loadtxt(test_x_name, delimiter=',')"
   ]
  },
  {
   "cell_type": "code",
   "execution_count": 42,
   "metadata": {},
   "outputs": [],
   "source": [
    "df_vals = np.stack([train_x[:,0],train_x[:,1],train_y],axis=1)\n",
    "df = pd.DataFrame(data = df_vals,columns = ['x0','x1','y'])\n",
    "\n",
    "df_left = df[df['x0']<-0.5]\n",
    "df_left = df_left.sample(frac=0.01,random_state=42)\n",
    "df_right = df[df['x0']>-0.5]\n",
    "\n",
    "\n"
   ]
  },
  {
   "cell_type": "code",
   "execution_count": 43,
   "metadata": {},
   "outputs": [],
   "source": [
    "df_left_right = pd.concat([df_left,df_right])\n",
    "\n",
    "train_x = df_left_right[['x0','x1']].values\n",
    "train_y = df_left_right['y'].values"
   ]
  },
  {
   "cell_type": "code",
   "execution_count": 44,
   "metadata": {},
   "outputs": [],
   "source": [
    "i=0\n",
    "K_cv=10\n",
    "df_train_list = [df_left]\n",
    "df_right_shuffle = df_right.sample(frac=1,random_state=42)\n",
    "df_right_splits = np.array_split(df_right_shuffle,K_cv)\n",
    "for j in range(0,K_cv):\n",
    "    if j!=i:\n",
    "        df_train_list.append(df_right_splits[j])\n",
    "\n",
    "df_train = pd.concat(df_train_list)\n",
    "df_val = df_right_splits[i]\n",
    "\n",
    "train_x = df_train[['x0','x1']].values\n",
    "train_y = df_train['y'].values\n",
    "val_x = df_val[['x0','x1']].values\n",
    "val_y = df_val['y'].values"
   ]
  },
  {
   "cell_type": "code",
   "execution_count": 63,
   "metadata": {},
   "outputs": [],
   "source": [
    "variance=1e-3\n",
    "n=np.shape(train_x)[0]\n",
    "q=1000\n",
    "\n",
    "K_nq = kernel(train_x,train_x[:q])\n",
    "K_qq = kernel(train_x[:q],train_x[:q])\n",
    "K_qq_eigendec = np.linalg.eig(K_qq)\n",
    "Lambda_qq = np.diag(K_qq_eigendec[0])\n",
    "U_qq = K_qq_eigendec[1]\n",
    "\n",
    "#For the minor components- U_qq contains some complex columns\n",
    "#if we don't do PCA\n",
    "p = utils.pca_find_p(K_qq_eigendec[0],pca_thresh=(1-1e-3))\n",
    "Lambda_pp = np.diag(K_qq_eigendec[0][:p+1])\n",
    "U_qp = U_qq[:,:p+1]\n",
    "\n",
    "Q = K_nq.dot(U_qp).dot(np.sqrt(np.linalg.inv(Lambda_pp)))\n",
    "\n",
    "#reduced_inv = np.linalg.inv( self.variance*np.eye(self.q)+(Q.transpose()).dot(Q) )\n",
    "reduced_inv = np.linalg.inv( variance*np.eye(Q.shape[1])+(Q.transpose()).dot(Q) )\n",
    "K_x_x_inv = (1/variance)*np.eye(n) - \\\n",
    "        (1/variance)*Q.dot(reduced_inv).dot(Q.transpose()).real\n",
    "K_x_x_inv_nys = K_x_x_inv"
   ]
  },
  {
   "cell_type": "code",
   "execution_count": 37,
   "metadata": {},
   "outputs": [
    {
     "data": {
      "text/plain": [
       "51"
      ]
     },
     "execution_count": 37,
     "metadata": {},
     "output_type": "execute_result"
    }
   ],
   "source": [
    "p"
   ]
  },
  {
   "cell_type": "code",
   "execution_count": 54,
   "metadata": {},
   "outputs": [
    {
     "data": {
      "text/plain": [
       "(1845, 1845)"
      ]
     },
     "execution_count": 54,
     "metadata": {},
     "output_type": "execute_result"
    }
   ],
   "source": [
    "K_x_x_inv_nys.shape"
   ]
  },
  {
   "cell_type": "code",
   "execution_count": 115,
   "metadata": {},
   "outputs": [
    {
     "data": {
      "text/plain": [
       "7.806255641895632e-18"
      ]
     },
     "execution_count": 115,
     "metadata": {},
     "output_type": "execute_result"
    }
   ],
   "source": [
    "np.max(np.abs(K_x_x_inv-K_x_x_inv.transpose()))\n"
   ]
  },
  {
   "cell_type": "code",
   "execution_count": 64,
   "metadata": {},
   "outputs": [],
   "source": [
    "K_x_x_inv = (K_x_x_inv+K_x_x_inv.transpose())/2"
   ]
  },
  {
   "cell_type": "code",
   "execution_count": 73,
   "metadata": {},
   "outputs": [],
   "source": [
    "K_Q_x = kernel(val_x, train_x)\n",
    "K_x_Q = kernel(train_x, val_x)\n",
    "K_Q_Q = kernel(val_x, val_x)\n",
    "means = K_Q_x.dot(K_x_x_inv).dot(train_y)\n",
    "cov = K_Q_Q - K_Q_x.dot(K_x_x_inv).dot(K_x_Q)\n",
    "cov = (cov+cov.transpose())/2\n",
    "vars_val = np.diag(cov)\n",
    "y_pred = (np.random.multivariate_normal(means.ravel(), cov, 1)).flatten() #sample from the multivar normal"
   ]
  },
  {
   "cell_type": "code",
   "execution_count": 74,
   "metadata": {},
   "outputs": [
    {
     "data": {
      "text/plain": [
       "0.0"
      ]
     },
     "execution_count": 74,
     "metadata": {},
     "output_type": "execute_result"
    }
   ],
   "source": [
    "np.max(np.abs(cov-cov.transpose()))"
   ]
  },
  {
   "cell_type": "code",
   "execution_count": 75,
   "metadata": {},
   "outputs": [
    {
     "name": "stdout",
     "output_type": "stream",
     "text": [
      "(15,)\n",
      "(15,)\n"
     ]
    }
   ],
   "source": [
    "print(y_pred.shape)\n",
    "print(val_y.shape)"
   ]
  },
  {
   "cell_type": "code",
   "execution_count": 76,
   "metadata": {},
   "outputs": [
    {
     "name": "stdout",
     "output_type": "stream",
     "text": [
      "0.03107701003105833\n"
     ]
    }
   ],
   "source": [
    "print(cost_function(val_y,y_pred))"
   ]
  },
  {
   "cell_type": "code",
   "execution_count": 58,
   "metadata": {},
   "outputs": [],
   "source": [
    "K_x_x = kernel(train_x,train_x)\n",
    "K_x_x_inv = np.linalg.inv(K_x_x +\n",
    "                                   (variance * np.eye(*K_x_x.shape)))"
   ]
  },
  {
   "cell_type": "code",
   "execution_count": 59,
   "metadata": {},
   "outputs": [
    {
     "data": {
      "text/plain": [
       "(306, 306)"
      ]
     },
     "execution_count": 59,
     "metadata": {},
     "output_type": "execute_result"
    }
   ],
   "source": [
    "K_x_x_inv.shape"
   ]
  },
  {
   "cell_type": "code",
   "execution_count": 60,
   "metadata": {},
   "outputs": [
    {
     "name": "stderr",
     "output_type": "stream",
     "text": [
      "/home/hanyao8/python-environments/py3env1/lib/python3.6/site-packages/ipykernel_launcher.py:7: RuntimeWarning: covariance is not symmetric positive-semidefinite.\n",
      "  import sys\n"
     ]
    }
   ],
   "source": [
    "K_Q_x = kernel(val_x, train_x)\n",
    "K_x_Q = kernel(train_x, val_x)\n",
    "K_Q_Q = kernel(val_x, val_x)\n",
    "means = K_Q_x.dot(K_x_x_inv).dot(train_y)\n",
    "cov = K_Q_Q - K_Q_x.dot(K_x_x_inv).dot(K_x_Q)\n",
    "vars_val = np.diag(cov)\n",
    "y_pred = (np.random.multivariate_normal(means.ravel(), cov, 1)).flatten() #sample from the multivar normal"
   ]
  },
  {
   "cell_type": "code",
   "execution_count": 55,
   "metadata": {},
   "outputs": [],
   "source": [
    "from sklearn.gaussian_process import GaussianProcessRegressor\n",
    "\n",
    "gpr = GaussianProcessRegressor(kernel=kernel,copy_X_train=False,random_state=42)\n",
    "gpr.fit(train_x, train_y)\n",
    "y_pred = gpr.predict(val_x)\n",
    "\n"
   ]
  },
  {
   "cell_type": "code",
   "execution_count": 28,
   "metadata": {},
   "outputs": [
    {
     "name": "stdout",
     "output_type": "stream",
     "text": [
      "0.361**2 + 0.154**2 * Matern(length_scale=0.319, nu=1.5) + WhiteKernel(noise_level=0.00272)\n"
     ]
    }
   ],
   "source": [
    "print(gpr.kernel_)"
   ]
  },
  {
   "cell_type": "code",
   "execution_count": 62,
   "metadata": {},
   "outputs": [
    {
     "name": "stdout",
     "output_type": "stream",
     "text": [
      "0.02340566593926577\n"
     ]
    }
   ],
   "source": [
    "print(cost_function(val_y,y_pred))"
   ]
  },
  {
   "cell_type": "code",
   "execution_count": 16,
   "metadata": {},
   "outputs": [
    {
     "ename": "ValueError",
     "evalue": "operands could not be broadcast together with shapes (1845,1845) (138,138) ",
     "output_type": "error",
     "traceback": [
      "\u001b[0;31m---------------------------------------------------------------------------\u001b[0m",
      "\u001b[0;31mValueError\u001b[0m                                Traceback (most recent call last)",
      "\u001b[0;32m<ipython-input-16-e94957ef80fd>\u001b[0m in \u001b[0;36m<module>\u001b[0;34m\u001b[0m\n\u001b[0;32m----> 1\u001b[0;31m \u001b[0mcheck1\u001b[0m \u001b[0;34m=\u001b[0m \u001b[0mnp\u001b[0m\u001b[0;34m.\u001b[0m\u001b[0mabs\u001b[0m\u001b[0;34m(\u001b[0m\u001b[0mK_x_x_inv_nys\u001b[0m\u001b[0;34m-\u001b[0m\u001b[0mK_x_x_inv\u001b[0m\u001b[0;34m)\u001b[0m\u001b[0;34m\u001b[0m\u001b[0;34m\u001b[0m\u001b[0m\n\u001b[0m\u001b[1;32m      2\u001b[0m \u001b[0mcheck2\u001b[0m \u001b[0;34m=\u001b[0m \u001b[0mnp\u001b[0m\u001b[0;34m.\u001b[0m\u001b[0mabs\u001b[0m\u001b[0;34m(\u001b[0m\u001b[0mK_x_x_inv\u001b[0m\u001b[0;34m)\u001b[0m\u001b[0;34m\u001b[0m\u001b[0;34m\u001b[0m\u001b[0m\n\u001b[1;32m      3\u001b[0m \u001b[0mcheck3\u001b[0m \u001b[0;34m=\u001b[0m\u001b[0mcheck1\u001b[0m \u001b[0;34m/\u001b[0m \u001b[0mcheck2\u001b[0m\u001b[0;34m\u001b[0m\u001b[0;34m\u001b[0m\u001b[0m\n\u001b[1;32m      4\u001b[0m \u001b[0mcheck4\u001b[0m \u001b[0;34m=\u001b[0m \u001b[0mnp\u001b[0m\u001b[0;34m.\u001b[0m\u001b[0mabs\u001b[0m\u001b[0;34m(\u001b[0m\u001b[0mK_x_x_inv_nys\u001b[0m\u001b[0;34m)\u001b[0m\u001b[0;34m\u001b[0m\u001b[0;34m\u001b[0m\u001b[0m\n",
      "\u001b[0;31mValueError\u001b[0m: operands could not be broadcast together with shapes (1845,1845) (138,138) "
     ]
    }
   ],
   "source": [
    "check1 = np.abs(K_x_x_inv_nys-K_x_x_inv)\n",
    "check2 = np.abs(K_x_x_inv)\n",
    "check3 =check1 / check2\n",
    "check4 = np.abs(K_x_x_inv_nys)"
   ]
  },
  {
   "cell_type": "code",
   "execution_count": 65,
   "metadata": {},
   "outputs": [
    {
     "name": "stdout",
     "output_type": "stream",
     "text": [
      "117423.77206777377\n"
     ]
    }
   ],
   "source": [
    "print(np.max(check3))"
   ]
  },
  {
   "cell_type": "code",
   "execution_count": 64,
   "metadata": {},
   "outputs": [
    {
     "data": {
      "text/plain": [
       "(array([2.00000e+00, 0.00000e+00, 2.00000e+00, 2.00000e+00, 0.00000e+00,\n",
       "        0.00000e+00, 2.00000e+00, 0.00000e+00, 4.00000e+00, 1.20000e+01,\n",
       "        8.00000e+00, 1.00000e+01, 2.40000e+01, 1.40000e+01, 4.80000e+01,\n",
       "        2.20000e+01, 4.00000e+01, 6.60000e+01, 1.06000e+02, 1.10000e+02,\n",
       "        1.72000e+02, 2.10000e+02, 2.50000e+02, 3.24000e+02, 4.84000e+02,\n",
       "        7.06000e+02, 9.44000e+02, 1.25300e+03, 1.75600e+03, 2.70700e+03,\n",
       "        3.29700e+03, 3.82200e+03, 5.21900e+03, 6.93800e+03, 9.23800e+03,\n",
       "        1.16760e+04, 1.58390e+04, 2.10750e+04, 2.81020e+04, 3.84660e+04,\n",
       "        4.99820e+04, 6.60960e+04, 8.56950e+04, 1.02082e+05, 1.08705e+05,\n",
       "        1.03697e+05, 9.51480e+04, 8.51720e+04, 8.72280e+04, 9.30320e+04,\n",
       "        1.01906e+05, 1.16422e+05, 1.32890e+05, 1.57214e+05, 2.06086e+05,\n",
       "        2.98102e+05, 2.96582e+05, 3.07804e+05, 2.58752e+05, 2.12290e+05,\n",
       "        1.19804e+05, 6.00260e+04, 2.97900e+04, 2.08140e+04, 1.51320e+04,\n",
       "        1.06440e+04, 7.69200e+03, 5.60000e+03, 4.21600e+03, 3.16000e+03,\n",
       "        2.24600e+03, 1.65800e+03, 1.43400e+03, 9.88000e+02, 8.10000e+02,\n",
       "        5.58000e+02, 4.58000e+02, 3.52000e+02, 1.94000e+02, 1.52000e+02,\n",
       "        1.06000e+02, 7.20000e+01, 7.60000e+01, 5.20000e+01, 3.20000e+01,\n",
       "        3.20000e+01, 2.80000e+01, 8.00000e+00, 8.00000e+00, 2.20000e+01,\n",
       "        4.00000e+00, 6.00000e+00, 6.00000e+00, 0.00000e+00, 4.00000e+00,\n",
       "        2.00000e+00, 0.00000e+00, 2.00000e+00, 0.00000e+00, 2.00000e+00]),\n",
       " array([-7.47945836, -7.35396622, -7.22847408, -7.10298193, -6.97748979,\n",
       "        -6.85199764, -6.7265055 , -6.60101336, -6.47552121, -6.35002907,\n",
       "        -6.22453692, -6.09904478, -5.97355264, -5.84806049, -5.72256835,\n",
       "        -5.5970762 , -5.47158406, -5.34609192, -5.22059977, -5.09510763,\n",
       "        -4.96961548, -4.84412334, -4.7186312 , -4.59313905, -4.46764691,\n",
       "        -4.34215477, -4.21666262, -4.09117048, -3.96567833, -3.84018619,\n",
       "        -3.71469405, -3.5892019 , -3.46370976, -3.33821761, -3.21272547,\n",
       "        -3.08723333, -2.96174118, -2.83624904, -2.71075689, -2.58526475,\n",
       "        -2.45977261, -2.33428046, -2.20878832, -2.08329618, -1.95780403,\n",
       "        -1.83231189, -1.70681974, -1.5813276 , -1.45583546, -1.33034331,\n",
       "        -1.20485117, -1.07935902, -0.95386688, -0.82837474, -0.70288259,\n",
       "        -0.57739045, -0.4518983 , -0.32640616, -0.20091402, -0.07542187,\n",
       "         0.05007027,  0.17556242,  0.30105456,  0.4265467 ,  0.55203885,\n",
       "         0.67753099,  0.80302313,  0.92851528,  1.05400742,  1.17949957,\n",
       "         1.30499171,  1.43048385,  1.555976  ,  1.68146814,  1.80696029,\n",
       "         1.93245243,  2.05794457,  2.18343672,  2.30892886,  2.43442101,\n",
       "         2.55991315,  2.68540529,  2.81089744,  2.93638958,  3.06188172,\n",
       "         3.18737387,  3.31286601,  3.43835816,  3.5638503 ,  3.68934244,\n",
       "         3.81483459,  3.94032673,  4.06581888,  4.19131102,  4.31680316,\n",
       "         4.44229531,  4.56778745,  4.6932796 ,  4.81877174,  4.94426388,\n",
       "         5.06975603]),\n",
       " <a list of 100 Patch objects>)"
      ]
     },
     "execution_count": 64,
     "metadata": {},
     "output_type": "execute_result"
    },
    {
     "data": {
      "image/png": "[encoded data removed]",
      "text/plain": [
       "<Figure size 432x288 with 1 Axes>"
      ]
     },
     "metadata": {
      "needs_background": "light"
     },
     "output_type": "display_data"
    }
   ],
   "source": [
    "import matplotlib.pyplot as plt\n",
    "\n",
    "\n",
    "#plt.hist(np.log10(check1.flatten()),bins=100,alpha=0.25)\n",
    "plt.hist(np.log10(check2.flatten()),bins=100,alpha=0.25)\n",
    "plt.hist(np.log10(check3.flatten()),bins=100,alpha=0.25)\n",
    "#plt.hist(np.random.choice(check2.flatten(),1000))"
   ]
  },
  {
   "cell_type": "code",
   "execution_count": 44,
   "metadata": {},
   "outputs": [
    {
     "name": "stdout",
     "output_type": "stream",
     "text": [
      "0.025138913666294713\n",
      "0.9944882911807369\n"
     ]
    }
   ],
   "source": [
    "print(np.max(check1))\n",
    "print(np.max(np.abs(K_x_x_inv)))"
   ]
  },
  {
   "cell_type": "code",
   "execution_count": null,
   "metadata": {},
   "outputs": [],
   "source": []
  },
  {
   "cell_type": "code",
   "execution_count": null,
   "metadata": {},
   "outputs": [],
   "source": []
  },
  {
   "cell_type": "code",
   "execution_count": null,
   "metadata": {},
   "outputs": [],
   "source": [
    "Knn = kernels.rbf_kernel(train_x_full,train_x_full)\n",
    "Kqq = kernels.rbf_kernel(train_x_trunc,train_x_trunc)\n",
    "Knq = kernels.rbf_kernel(train_x_full,train_x_trunc)\n",
    "res = np.linalg.eig(Kqq)\n",
    "Lambdaqq = np.diag(res[0])\n",
    "Uqq = res[1]"
   ]
  },
  {
   "cell_type": "code",
   "execution_count": null,
   "metadata": {},
   "outputs": [],
   "source": [
    "#print(np.sum(res[0]).imag)\n",
    "print(np.absolute(res[0]))\n"
   ]
  }
 ],
 "metadata": {
  "kernelspec": {
   "display_name": "Python 3",
   "language": "python",
   "name": "python3"
  },
  "language_info": {
   "codemirror_mode": {
    "name": "ipython",
    "version": 3
   },
   "file_extension": ".py",
   "mimetype": "text/x-python",
   "name": "python",
   "nbconvert_exporter": "python",
   "pygments_lexer": "ipython3",
   "version": "3.6.4"
  }
 },
 "nbformat": 4,
 "nbformat_minor": 2
}
