{
 "cells": [
  {
   "cell_type": "code",
   "execution_count": 4,
   "metadata": {},
   "outputs": [],
   "source": [
    "import numpy as np\n",
    "\n",
    "import pandas as pd \n",
    "import numpy as np\n",
    "import matplotlib.pyplot as plt\n",
    "\n",
    "from matplotlib import cm\n",
    "from mpl_toolkits.mplot3d import Axes3D\n",
    "\n",
    "import kernels"
   ]
  },
  {
   "cell_type": "code",
   "execution_count": 5,
   "metadata": {},
   "outputs": [],
   "source": [
    "import solution\n",
    "from solution import Model\n",
    "from solution import cv_eval\n"
   ]
  },
  {
   "cell_type": "code",
   "execution_count": null,
   "metadata": {},
   "outputs": [],
   "source": [
    "#copy code to override default classes"
   ]
  },
  {
   "cell_type": "code",
   "execution_count": null,
   "metadata": {},
   "outputs": [],
   "source": [
    "#def main():\n",
    "train_x_name = \"train_x.csv\"\n",
    "train_y_name = \"train_y.csv\"\n",
    "\n",
    "train_x = np.loadtxt(train_x_name, delimiter=',')\n",
    "train_y = np.loadtxt(train_y_name, delimiter=',')\n",
    "\n",
    "# load the test dateset\n",
    "test_x_name = \"test_x.csv\"\n",
    "test_x = np.loadtxt(test_x_name, delimiter=',')"
   ]
  },
  {
   "cell_type": "code",
   "execution_count": null,
   "metadata": {},
   "outputs": [],
   "source": [
    "\n",
    "np.shape(train_x)\n"
   ]
  },
  {
   "cell_type": "markdown",
   "metadata": {},
   "source": [
    " # Call Scikit-learn "
   ]
  },
  {
   "cell_type": "code",
   "execution_count": 4,
   "metadata": {
    "scrolled": true
   },
   "outputs": [
    {
     "name": "stdout",
     "output_type": "stream",
     "text": [
      "[[-1.         -1.          0.75400097]\n",
      " [-1.         -0.98657718  0.83958557]\n",
      " [-1.         -0.97315436  0.81706415]\n",
      " ...\n",
      " [-0.47651007 -0.73154362  0.22523587]\n",
      " [ 0.5033557   0.53020134  0.49737222]\n",
      " [ 0.00671141  0.5033557   0.29129925]]\n",
      "(17250, 3)\n",
      "(17250, 3)\n",
      "i=0\n",
      "training cost fn   0.022376\n",
      "val cost fn        0.031516\n",
      "\n",
      "\n",
      "i=1\n",
      "training cost fn   0.020638\n",
      "val cost fn        0.152202\n",
      "\n",
      "\n",
      "i=2\n",
      "training cost fn   0.021473\n",
      "val cost fn        0.079262\n",
      "\n",
      "\n",
      "i=3\n",
      "training cost fn   0.022183\n",
      "val cost fn        0.027838\n",
      "\n",
      "\n",
      "i=4\n",
      "training cost fn   0.021999\n",
      "val cost fn        0.004980\n",
      "\n",
      "\n",
      "i=5\n",
      "training cost fn   0.021465\n",
      "val cost fn        0.034251\n",
      "\n",
      "\n",
      "i=6\n",
      "training cost fn   0.022170\n",
      "val cost fn        0.015446\n",
      "\n",
      "\n",
      "i=7\n",
      "training cost fn   0.021531\n",
      "val cost fn        0.134161\n",
      "\n",
      "\n",
      "i=8\n",
      "training cost fn   0.022239\n",
      "val cost fn        0.009450\n",
      "\n",
      "\n",
      "i=9\n",
      "training cost fn   0.022094\n",
      "val cost fn        0.021807\n",
      "\n",
      "\n",
      "0.05109120803224674\n",
      "0.0501132724292744\n"
     ]
    }
   ],
   "source": [
    "### TODO add a simple outer train, test split to select the hyperparameters (kernel type etc) in the inner CV loop \n",
    "kernel = kernels.sklearn_best()\n",
    "K_cv = 10\n",
    "model_config = {\n",
    "    \"kernel\":kernel,\n",
    "    \"use_skit_learn\":True,\n",
    "    \"model_preprocess_left_frac\":1.0\n",
    "}\n",
    "cv_m = cv_eval(cv_splits = K_cv,\n",
    "               cv_preprocess_left_frac = 0.05,\n",
    "               model_config=model_config) # Choose whether to use custom model or scikit learn\n",
    "val_cost_array = cv_m.run_cross_validation(train_x, train_y)\n",
    "\n",
    "print(np.mean(val_cost_array))\n",
    "print(np.std(val_cost_array))"
   ]
  },
  {
   "cell_type": "markdown",
   "metadata": {},
   "source": [
    "# Call FITC"
   ]
  },
  {
   "cell_type": "code",
   "execution_count": null,
   "metadata": {},
   "outputs": [],
   "source": [
    "### TODO add a simple outer train, test split to select the hyperparameters (kernel type etc) in the inner CV loop \n",
    "kernel = kernels.sklearn_best()\n",
    "K_cv = 10\n",
    "model_config = {\n",
    "    \"kernel\":kernel,\n",
    "    \"use_skit_learn\":False,\n",
    "    \"use_nystrom\":False,\n",
    "    \"use_fitc\":True,\n",
    "    \"model_preprocess_left_frac\":1.0\n",
    "}\n",
    "cv_m = cv_eval(cv_splits = K_cv,\n",
    "               cv_preprocess_left_frac = 0.05,\n",
    "               model_config=model_config) # Choose whether to use custom model or scikit learn\n",
    "val_cost_array = cv_m.run_cross_validation(train_x, train_y)\n",
    "\n",
    "print(np.mean(val_cost_array))\n",
    "print(np.std(val_cost_array))"
   ]
  },
  {
   "cell_type": "code",
   "execution_count": 5,
   "metadata": {},
   "outputs": [
    {
     "data": {
      "text/plain": [
       "[None, None, None, None, None, None, None, None, None, None]"
      ]
     },
     "execution_count": 5,
     "metadata": {},
     "output_type": "execute_result"
    }
   ],
   "source": [
    "cv_m.models"
   ]
  },
  {
   "cell_type": "code",
   "execution_count": null,
   "metadata": {},
   "outputs": [],
   "source": []
  },
  {
   "cell_type": "code",
   "execution_count": null,
   "metadata": {},
   "outputs": [],
   "source": []
  },
  {
   "cell_type": "code",
   "execution_count": null,
   "metadata": {},
   "outputs": [],
   "source": []
  },
  {
   "cell_type": "markdown",
   "metadata": {},
   "source": [
    "# Temporary "
   ]
  },
  {
   "cell_type": "code",
   "execution_count": null,
   "metadata": {},
   "outputs": [],
   "source": [
    "#check nystrom"
   ]
  },
  {
   "cell_type": "code",
   "execution_count": null,
   "metadata": {},
   "outputs": [],
   "source": [
    "train_x_trunc = train_x[:100]\n",
    "train_x_full = train_x[:10000]"
   ]
  },
  {
   "cell_type": "code",
   "execution_count": null,
   "metadata": {},
   "outputs": [],
   "source": [
    "kernel = kernels.sklearn_best()\n",
    "print(kernel(train_x_trunc,train_x_trunc))\n"
   ]
  },
  {
   "cell_type": "code",
   "execution_count": null,
   "metadata": {},
   "outputs": [],
   "source": [
    "model_config = {\"use_skit_learn\":False,\n",
    "                \"use_nystrom\":True,\n",
    "                \"nystrom_q\":100,\n",
    "                \"kernel\":kernel,\n",
    "                \"variance\":0.01,\n",
    "                \"correct_y_pred\":False,\n",
    "                \"preprocess_frac\":0.05}\n",
    "model = Model(model_config)"
   ]
  },
  {
   "cell_type": "code",
   "execution_count": null,
   "metadata": {},
   "outputs": [],
   "source": []
  },
  {
   "cell_type": "code",
   "execution_count": null,
   "metadata": {},
   "outputs": [],
   "source": [
    "model.fit_model(train_x,train_y)\n",
    "model.\n"
   ]
  },
  {
   "cell_type": "code",
   "execution_count": null,
   "metadata": {},
   "outputs": [],
   "source": []
  },
  {
   "cell_type": "code",
   "execution_count": null,
   "metadata": {},
   "outputs": [],
   "source": [
    "Knn = kernels.rbf_kernel(train_x_full,train_x_full)\n",
    "Kqq = kernels.rbf_kernel(train_x_trunc,train_x_trunc)\n",
    "Knq = kernels.rbf_kernel(train_x_full,train_x_trunc)\n",
    "res = np.linalg.eig(Kqq)\n",
    "Lambdaqq = np.diag(res[0])\n",
    "Uqq = res[1]"
   ]
  },
  {
   "cell_type": "code",
   "execution_count": null,
   "metadata": {},
   "outputs": [],
   "source": [
    "#print(np.sum(res[0]).imag)\n",
    "print(np.absolute(res[0]))\n"
   ]
  }
 ],
 "metadata": {
  "kernelspec": {
   "display_name": "Python 3",
   "language": "python",
   "name": "python3"
  },
  "language_info": {
   "codemirror_mode": {
    "name": "ipython",
    "version": 3
   },
   "file_extension": ".py",
   "mimetype": "text/x-python",
   "name": "python",
   "nbconvert_exporter": "python",
   "pygments_lexer": "ipython3",
   "version": "3.6.4"
  }
 },
 "nbformat": 4,
 "nbformat_minor": 2
}
